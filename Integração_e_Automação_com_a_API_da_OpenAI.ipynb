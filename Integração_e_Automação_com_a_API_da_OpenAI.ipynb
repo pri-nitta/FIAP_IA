{
  "nbformat": 4,
  "nbformat_minor": 0,
  "metadata": {
    "colab": {
      "provenance": [],
      "authorship_tag": "ABX9TyOCS0q7qmNySEgb4SGc+Olu",
      "include_colab_link": true
    },
    "kernelspec": {
      "name": "python3",
      "display_name": "Python 3"
    },
    "language_info": {
      "name": "python"
    }
  },
  "cells": [
    {
      "cell_type": "markdown",
      "metadata": {
        "id": "view-in-github",
        "colab_type": "text"
      },
      "source": [
        "<a href=\"https://colab.research.google.com/github/pri-nitta/FIAP_IA/blob/main/Integra%C3%A7%C3%A3o_e_Automa%C3%A7%C3%A3o_com_a_API_da_OpenAI.ipynb\" target=\"_parent\"><img src=\"https://colab.research.google.com/assets/colab-badge.svg\" alt=\"Open In Colab\"/></a>"
      ]
    },
    {
      "cell_type": "code",
      "execution_count": 1,
      "metadata": {
        "colab": {
          "base_uri": "https://localhost:8080/",
          "height": 383
        },
        "id": "ZIShXWdSvSEn",
        "outputId": "6df6c567-76bd-44f4-f4cb-54341a71dfe8"
      },
      "outputs": [
        {
          "output_type": "error",
          "ename": "ModuleNotFoundError",
          "evalue": "No module named 'docx'",
          "traceback": [
            "\u001b[0;31m---------------------------------------------------------------------------\u001b[0m",
            "\u001b[0;31mModuleNotFoundError\u001b[0m                       Traceback (most recent call last)",
            "\u001b[0;32m<ipython-input-1-477fbee89eb1>\u001b[0m in \u001b[0;36m<cell line: 0>\u001b[0;34m()\u001b[0m\n\u001b[1;32m      1\u001b[0m \u001b[0;32mfrom\u001b[0m \u001b[0mflask\u001b[0m \u001b[0;32mimport\u001b[0m \u001b[0mFlask\u001b[0m\u001b[0;34m,\u001b[0m \u001b[0mrequest\u001b[0m\u001b[0;34m,\u001b[0m \u001b[0mjsonify\u001b[0m\u001b[0;34m\u001b[0m\u001b[0;34m\u001b[0m\u001b[0m\n\u001b[1;32m      2\u001b[0m \u001b[0;32mfrom\u001b[0m \u001b[0mopenai\u001b[0m \u001b[0;32mimport\u001b[0m \u001b[0mOpenAI\u001b[0m\u001b[0;34m\u001b[0m\u001b[0;34m\u001b[0m\u001b[0m\n\u001b[0;32m----> 3\u001b[0;31m \u001b[0;32mfrom\u001b[0m \u001b[0mdocx\u001b[0m \u001b[0;32mimport\u001b[0m \u001b[0mDocument\u001b[0m\u001b[0;34m\u001b[0m\u001b[0;34m\u001b[0m\u001b[0m\n\u001b[0m\u001b[1;32m      4\u001b[0m \u001b[0;32mimport\u001b[0m \u001b[0mchardet\u001b[0m\u001b[0;34m\u001b[0m\u001b[0;34m\u001b[0m\u001b[0m\n\u001b[1;32m      5\u001b[0m \u001b[0;32mimport\u001b[0m \u001b[0mjson\u001b[0m\u001b[0;34m\u001b[0m\u001b[0;34m\u001b[0m\u001b[0m\n",
            "\u001b[0;31mModuleNotFoundError\u001b[0m: No module named 'docx'",
            "",
            "\u001b[0;31m---------------------------------------------------------------------------\u001b[0;32m\nNOTE: If your import is failing due to a missing package, you can\nmanually install dependencies using either !pip or !apt.\n\nTo view examples of installing some common dependencies, click the\n\"Open Examples\" button below.\n\u001b[0;31m---------------------------------------------------------------------------\u001b[0m\n"
          ],
          "errorDetails": {
            "actions": [
              {
                "action": "open_url",
                "actionText": "Open Examples",
                "url": "/notebooks/snippets/importing_libraries.ipynb"
              }
            ]
          }
        }
      ],
      "source": [
        "from flask import Flask, request, jsonify\n",
        "from openai import OpenAI\n",
        "from docx import Document\n",
        "import chardet\n",
        "import json\n",
        "import numpy\n",
        "client = OpenAI(api_key='')\n",
        "app = Flask(__name__)\n",
        "\n",
        "def read_docx(file):\n",
        "    document = Document(file)\n",
        "    text = []\n",
        "    for para in document.paragraphs:\n",
        "        text.append(para.text)\n",
        "    return '\\n'.join(text)\n",
        "\n",
        "def api_gpt(text_content):\n",
        "    response = client.chat.completions.create(\n",
        "      model=\"gpt-3.5-turbo\",  # Procure na documentação e teste com outros modelos\n",
        "      response_format={ \"type\": \"json_object\" },\n",
        "      messages=[\n",
        "          {\"role\": \"system\", \"content\": \"Você é especialista em extrair dados de contratos jurídicos. Para contratos de locação, preciso que me retorne os seguintes dados nesse formato: | NOME DO LOCADOR| DOCUMENTO DO LOCADOR | NOME DO LOCATÁRIO | DOCUMENTO DO LOCATÁRIO | ENDEREÇO DO IMÓVEL | VALOR DO ALUGUEL | no formato json.\"},\n",
        "          {\"role\": \"user\", \"content\": f\"Extraia as informações desse contrato {text_content}\"}\n",
        "          ],\n",
        "      max_tokens=4_096)\n",
        "    return jsonify(json.loads(response.choices[0].message.content))\n",
        "\n",
        "@app.route('/upload', methods=['POST'])\n",
        "def upload_file():\n",
        "    if 'file' not in request.files:\n",
        "        return jsonify({\"error\": \"Arquivo não enviado\"}), 400\n",
        "\n",
        "    file = request.files.get('file')\n",
        "    if file.filename == '':\n",
        "        return jsonify({\"error\": \"Arquivo não selecionado\"}), 400\n",
        "\n",
        "    if file.filename.endswith('.docx'):\n",
        "        text_content = read_docx(file)\n",
        "        return api_gpt(text_content)\n",
        "    else:\n",
        "        try:\n",
        "            raw_data = file.read()\n",
        "            result = chardet.detect(raw_data)\n",
        "            encoding = result['encoding']\n",
        "            text_content = raw_data.decode(encoding)\n",
        "            return api_gpt(text_content)\n",
        "        except UnicodeDecodeError:\n",
        "            return jsonify({\"error\": \"Erro de Encoding\"}), 400\n",
        "\n",
        "\n",
        "\n",
        "if __name__ == '__main__':\n",
        "    app.run(host='0.0.0.0', port=5000)"
      ]
    }
  ]
}